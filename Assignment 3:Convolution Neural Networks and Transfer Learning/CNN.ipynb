{
 "cells": [
  {
   "cell_type": "code",
   "execution_count": 85,
   "metadata": {},
   "outputs": [],
   "source": [
    "\"\"\"\n",
    "Authors: Ronak Hegde and Vignesh Vasan\n",
    "Run all cells in sequential order\n",
    "\"\"\"\n",
    "\n",
    "import silence_tensorflow.auto #silences all tensorflow warnings and logs\n",
    "import tensorflow.keras.preprocessing.image as image\n",
    "import tensorflow.keras.layers as layers\n",
    "from tensorflow.keras.models import load_model\n",
    "from PIL import Image\n",
    "import matplotlib.pyplot as plt\n",
    "import numpy as np\n",
    "import os\n",
    "import requests\n",
    "import tensorflow as tf\n",
    "import tensorflow_hub as hub\n",
    "import random"
   ]
  },
  {
   "cell_type": "code",
   "execution_count": 70,
   "metadata": {},
   "outputs": [],
   "source": [
    "def data_augmentation(train_dir):\n",
    "    \"\"\" Increasing # of training samples with random transformations \"\"\"\n",
    "    datagen = image.ImageDataGenerator(\n",
    "        rescale = 1./255,\n",
    "        rotation_range = 40,\n",
    "        width_shift_range = 0.3, \n",
    "        height_shift_range = 0.3,\n",
    "        shear_range = 0.2, \n",
    "        zoom_range = 0.2,\n",
    "        horizontal_flip = True,\n",
    "        fill_mode = 'nearest')\n",
    "    \n",
    "    generator = datagen.flow_from_directory(\n",
    "        train_dir,\n",
    "        target_size = (150,150),\n",
    "        batch_size = 32, \n",
    "        class_mode = 'categorical'\n",
    "    )\n",
    "    return generator "
   ]
  },
  {
   "cell_type": "code",
   "execution_count": 76,
   "metadata": {},
   "outputs": [],
   "source": [
    "def data_augmentation(train_dir):\n",
    "    \"\"\" Increasing # of training samples with random transformations \"\"\"\n",
    "\n",
    "    datagen = image.ImageDataGenerator(\n",
    "        rescale = 1./255,\n",
    "        rotation_range = 40,\n",
    "        width_shift_range = 0.3, \n",
    "        height_shift_range = 0.3,\n",
    "        shear_range = 0.2, \n",
    "        zoom_range = 0.2,\n",
    "        horizontal_flip = True,\n",
    "        fill_mode = 'nearest')\n",
    "    \n",
    "    generator = datagen.flow_from_directory(\n",
    "        train_dir,\n",
    "        target_size = (150,150),\n",
    "        batch_size = 20,\n",
    "        class_mode = 'categorical'\n",
    "    )\n",
    "    \n",
    "    return generator "
   ]
  },
  {
   "cell_type": "code",
   "execution_count": 89,
   "metadata": {},
   "outputs": [
    {
     "name": "stdout",
     "output_type": "stream",
     "text": [
      "Found 900 images belonging to 4 classes.\n",
      "Found 112 images belonging to 4 classes.\n"
     ]
    }
   ],
   "source": [
    "train_dir = '../data/weather_dataset/train'\n",
    "validation_dir = '../data/weather_dataset/validation'\n",
    "test_dir = '../data/weather_dataset/test'\n",
    "\n",
    "train_generator = data_augmentation(train_dir)\n",
    "\n",
    "test_datagen = image.ImageDataGenerator(rescale=1./255)\n",
    "\n",
    "validation_generator = test_datagen.flow_from_directory(\n",
    "    validation_dir,\n",
    "    target_size=(150, 150),\n",
    "    batch_size=20,\n",
    "    class_mode='categorical')\n",
    "\n",
    "model = tf.keras.Sequential([\n",
    "    hub.KerasLayer(\"https://tfhub.dev/google/imagenet/inception_v3/classification/4\")\n",
    "])\n",
    "model.add(layers.Dense(4, activation = 'softmax'))\n",
    "\n",
    "model.compile(\n",
    "    loss = 'categorical_crossentropy', \n",
    "    optimizer = tf.keras.optimizers.RMSprop(lr=1e-4),\n",
    "    metrics = ['acc']\n",
    ")"
   ]
  },
  {
   "cell_type": "code",
   "execution_count": 90,
   "metadata": {},
   "outputs": [
    {
     "name": "stdout",
     "output_type": "stream",
     "text": [
      "Epoch 1/30\n",
      "40/40 [==============================] - 13s 317ms/step - loss: 4.0705 - acc: 0.2425 - val_loss: 2.5440 - val_acc: 0.3839\n",
      "Epoch 2/30\n",
      "40/40 [==============================] - 11s 267ms/step - loss: 3.1828 - acc: 0.3225\n",
      "Epoch 3/30\n",
      "40/40 [==============================] - 11s 275ms/step - loss: 2.3641 - acc: 0.4563\n",
      "Epoch 4/30\n",
      "40/40 [==============================] - 11s 280ms/step - loss: 1.8201 - acc: 0.5213\n",
      "Epoch 5/30\n",
      "40/40 [==============================] - 11s 272ms/step - loss: 1.4208 - acc: 0.6187\n",
      "Epoch 6/30\n",
      "40/40 [==============================] - 11s 272ms/step - loss: 1.2350 - acc: 0.6438\n",
      "Epoch 7/30\n",
      "40/40 [==============================] - 11s 267ms/step - loss: 1.0053 - acc: 0.7113\n",
      "Epoch 8/30\n",
      "40/40 [==============================] - 11s 280ms/step - loss: 0.8596 - acc: 0.7450\n",
      "Epoch 9/30\n",
      "40/40 [==============================] - 11s 268ms/step - loss: 0.7232 - acc: 0.7788\n",
      "Epoch 10/30\n",
      "40/40 [==============================] - 11s 264ms/step - loss: 0.6728 - acc: 0.7775\n",
      "Epoch 11/30\n",
      "40/40 [==============================] - 11s 275ms/step - loss: 0.5969 - acc: 0.8225\n",
      "Epoch 12/30\n",
      "40/40 [==============================] - 10s 261ms/step - loss: 0.5947 - acc: 0.8188\n",
      "Epoch 13/30\n",
      "40/40 [==============================] - 11s 269ms/step - loss: 0.6025 - acc: 0.8213\n",
      "Epoch 14/30\n",
      "40/40 [==============================] - 11s 279ms/step - loss: 0.5817 - acc: 0.7987\n",
      "Epoch 15/30\n",
      "40/40 [==============================] - 11s 278ms/step - loss: 0.5689 - acc: 0.8413\n",
      "Epoch 16/30\n",
      "40/40 [==============================] - 11s 272ms/step - loss: 0.5057 - acc: 0.8325\n",
      "Epoch 17/30\n",
      "40/40 [==============================] - 11s 277ms/step - loss: 0.4545 - acc: 0.8587\n",
      "Epoch 18/30\n",
      "40/40 [==============================] - 11s 265ms/step - loss: 0.5391 - acc: 0.8375\n",
      "Epoch 19/30\n",
      "40/40 [==============================] - 11s 271ms/step - loss: 0.4423 - acc: 0.8562\n",
      "Epoch 20/30\n",
      "40/40 [==============================] - 11s 278ms/step - loss: 0.4584 - acc: 0.8650\n",
      "Epoch 21/30\n",
      "40/40 [==============================] - 11s 277ms/step - loss: 0.4567 - acc: 0.8537\n",
      "Epoch 22/30\n",
      "40/40 [==============================] - 11s 268ms/step - loss: 0.4284 - acc: 0.8675\n",
      "Epoch 23/30\n",
      "40/40 [==============================] - 11s 268ms/step - loss: 0.3313 - acc: 0.8913\n",
      "Epoch 24/30\n",
      "40/40 [==============================] - 10s 262ms/step - loss: 0.3758 - acc: 0.8850\n",
      "Epoch 25/30\n",
      "40/40 [==============================] - 11s 277ms/step - loss: 0.3671 - acc: 0.8700\n",
      "Epoch 26/30\n",
      "40/40 [==============================] - 11s 274ms/step - loss: 0.3074 - acc: 0.8963\n",
      "Epoch 27/30\n",
      "40/40 [==============================] - 11s 276ms/step - loss: 0.3288 - acc: 0.8875\n",
      "Epoch 28/30\n",
      "40/40 [==============================] - 11s 277ms/step - loss: 0.4011 - acc: 0.8800\n",
      "Epoch 29/30\n",
      "40/40 [==============================] - 10s 260ms/step - loss: 0.4011 - acc: 0.8750\n",
      "Epoch 30/30\n",
      "40/40 [==============================] - 11s 269ms/step - loss: 0.3077 - acc: 0.8950\n"
     ]
    }
   ],
   "source": [
    "history = model.fit_generator(\n",
    "    train_generator,\n",
    "    steps_per_epoch=40,\n",
    "    epochs=30,\n",
    "    validation_data=validation_generator,\n",
    "    validation_steps=20)"
   ]
  },
  {
   "cell_type": "code",
   "execution_count": 91,
   "metadata": {},
   "outputs": [
    {
     "name": "stdout",
     "output_type": "stream",
     "text": [
      "Found 113 images belonging to 4 classes.\n"
     ]
    }
   ],
   "source": [
    "test_generator = test_datagen.flow_from_directory(\n",
    "    test_dir, \n",
    "    target_size = (150,150),\n",
    "    batch_size = 1,\n",
    "    class_mode = 'categorical', \n",
    "#     shuffle = False\n",
    ")"
   ]
  },
  {
   "cell_type": "code",
   "execution_count": 93,
   "metadata": {},
   "outputs": [
    {
     "name": "stdout",
     "output_type": "stream",
     "text": [
      "Found 113 images belonging to 4 classes.\n",
      "113/113 [==============================] - 4s 34ms/step - loss: 0.3928 - acc: 0.8496\n",
      "test acc: 0.8495575189590454\n"
     ]
    }
   ],
   "source": [
    "test_generator = test_datagen.flow_from_directory(\n",
    "    test_dir, \n",
    "    target_size = (150,150),\n",
    "    batch_size = 1,\n",
    "    class_mode = 'categorical', \n",
    "    shuffle = False\n",
    ")\n",
    "\n",
    "test_loss, test_acc = model.evaluate_generator(test_generator, steps = len(test_generator), verbose = True)\n",
    "print('test acc:', test_acc)"
   ]
  },
  {
   "cell_type": "code",
   "execution_count": 101,
   "metadata": {},
   "outputs": [],
   "source": [
    "def results_to_file(num_results, filename, test_generator):\n",
    "    test_fnames = test_generator.filenames\n",
    "    test_fnames = [os.path.join(test_dir, fname) for fname in test_fnames]\n",
    "    \n",
    "    y_true = test_generator.classes\n",
    "    y_pred = model.predict_classes(test_generator)   \n",
    "    \n",
    "    assert len(y_true) == len(y_pred) == len(test_fnames), f\"Incorrect number of Files, Predictions, True Values\"\n",
    "    \n",
    "    default_mapping = test_generator.class_indices\n",
    "    label_mapping = dict((v,k) for k, v in default_mapping.items())\n",
    "    \n",
    "    #pick (num_results) number of files from our test set to output \n",
    "    random_file_indices = random.sample(range(1,len(test_fnames)), num_results)\n",
    "    \n",
    "    with open(filename,'w') as f:\n",
    "        for i in random_file_indices:\n",
    "            image_path = test_fnames[i]\n",
    "            predicted_label = label_mapping[y_pred[i]]\n",
    "            true_label = label_mapping[y_true[i]]\n",
    "            f.write(image_path + '\\t' + 'predicted label: ' + predicted_label + '\\t' + 'true label: ' + true_label + '\\n')"
   ]
  },
  {
   "cell_type": "code",
   "execution_count": 102,
   "metadata": {
    "scrolled": true
   },
   "outputs": [],
   "source": [
    "results_to_file(25, 'results.txt', test_generator)"
   ]
  }
 ],
 "metadata": {
  "kernelspec": {
   "display_name": "Python 3",
   "language": "python",
   "name": "python3"
  },
  "language_info": {
   "codemirror_mode": {
    "name": "ipython",
    "version": 3
   },
   "file_extension": ".py",
   "mimetype": "text/x-python",
   "name": "python",
   "nbconvert_exporter": "python",
   "pygments_lexer": "ipython3",
   "version": "3.6.9"
  }
 },
 "nbformat": 4,
 "nbformat_minor": 2
}
