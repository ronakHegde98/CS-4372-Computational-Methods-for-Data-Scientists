{
 "cells": [
  {
   "cell_type": "markdown",
   "metadata": {},
   "source": [
    "# Assignment 4: Twitter Airline Sentiment Analysis\n",
    " <ul> \n",
    "    <li> Dataset: <a href= 'https://www.kaggle.com/crowdflower/twitter-airline-sentiment/version/2'> Twitter US Airline Sentiment  </a> </li>\n",
    "    <li> Contains positive, neutral, and negative tweets directed at six US airlines </li>\n",
    " </ul>"
   ]
  },
  {
   "cell_type": "code",
   "execution_count": 202,
   "metadata": {},
   "outputs": [],
   "source": [
    "from sklearn.feature_extraction.text import CountVectorizer,TfidfTransformer\n",
    "from sklearn.model_selection import train_test_split\n",
    "from sklearn.naive_bayes import MultinomialNB\n",
    "from sklearn.preprocessing import LabelEncoder\n",
    "import matplotlib.pyplot as plt\n",
    "import preprocessor as p\n",
    "import pandas as pd\n",
    "import numpy as np\n",
    "p.set_options(p.OPT.EMOJI, p.OPT.URL, p.OPT.MENTION)"
   ]
  },
  {
   "cell_type": "code",
   "execution_count": 313,
   "metadata": {},
   "outputs": [],
   "source": [
    "file_location = \"../../data/Tweets.csv\"\n",
    "columns = ['airline_sentiment', 'airline', 'text']\n",
    "tweets_df = pd.read_csv(file_location, usecols = columns)"
   ]
  },
  {
   "cell_type": "code",
   "execution_count": 245,
   "metadata": {},
   "outputs": [],
   "source": [
    "class TweetPreprocessor:\n",
    "    def __init__(self, df):\n",
    "        self.df = df\n",
    "    \n",
    "    def fit(self, tweet_col, target_col):\n",
    "        np.random.shuffle(self.df.values)\n",
    "        self.drop_nulls()\n",
    "        self.lower_case(column_name = tweet_col)\n",
    "        self.preprocess_tweets(tweet_col)\n",
    "        self.label_encode(target_col)\n",
    "        \n",
    "        count_vect = CountVectorizer()\n",
    "        counts = count_vect.fit_transform(self.df[tweet_col])\n",
    "        transformer = TfidfTransformer().fit(counts)\n",
    "        normalized_counts = transformer.transform(counts)  \n",
    "        \n",
    "        return normalized_counts, self.df,  \n",
    "    \n",
    "    def label_encode(self, target_col):\n",
    "        le = preprocessing.LabelEncoder()\n",
    "        self.df[target_col] = le.fit_transform(self.df[target_col])\n",
    "    \n",
    "    def preprocess_tweets(self, tweet_col):\n",
    "        self.df[tweet_col] = self.df[tweet_col].apply(p.clean)\n",
    "        \n",
    "    def token_counts(self, tweet_col):\n",
    "        count_vect = CountVectorizer()\n",
    "        counts = count_vect.fit_transform(self.df[tweet_col])\n",
    "        return counts\n",
    "    \n",
    "    def normalize_counts(self, counts):\n",
    "        transformer = TfidfTransformer().fit(counts)\n",
    "        return transformer.transform(counts)\n",
    "    \n",
    "    def drop_nulls(self):\n",
    "        if(self.df.isna().sum().sum()>0):\n",
    "            self.df.dropna(inplace=True)\n",
    "        \n",
    "    def lower_case(self, column_name):\n",
    "        self.df[column_name] = self.df[column_name].str.lower()"
   ]
  },
  {
   "cell_type": "code",
   "execution_count": 381,
   "metadata": {},
   "outputs": [
    {
     "name": "stdout",
     "output_type": "stream",
     "text": [
      "(14640, 3)\n"
     ]
    }
   ],
   "source": [
    "target_col = 'airline_sentiment'\n",
    "preprocessor = TweetPreprocessor(tweets_df)\n",
    "normalized_counts, df = preprocessor.fit(tweet_col = 'text', target_col = target_col)\n",
    "print(df.shape)\n",
    "X_train, X_test, y_train, y_test = train_test_split(normalized_counts, df[target_col], test_size=0.1)"
   ]
  },
  {
   "cell_type": "code",
   "execution_count": 377,
   "metadata": {},
   "outputs": [],
   "source": [
    "positive_sentiment = {}\n",
    "\n",
    "for airline in np.unique(df['airline']):\n",
    "    airline_tweets = df[df['airline'] == airline]\n",
    "    positive_tweet_count = len(airline_tweets[airline_tweets['airline_sentiment'] == 2])\n",
    "    positive_sentiment[airline] = np.round(positive_tweet_count/len(airline_tweets),2)\n",
    "\n",
    "positive_airline = [key for key in positive_sentiment.keys() if \n",
    "                    positive_sentiment[key] == max(positive_sentiment.values())][0]"
   ]
  },
  {
   "cell_type": "code",
   "execution_count": 380,
   "metadata": {},
   "outputs": [
    {
     "data": {
      "text/html": [
       "<div>\n",
       "<style scoped>\n",
       "    .dataframe tbody tr th:only-of-type {\n",
       "        vertical-align: middle;\n",
       "    }\n",
       "\n",
       "    .dataframe tbody tr th {\n",
       "        vertical-align: top;\n",
       "    }\n",
       "\n",
       "    .dataframe thead th {\n",
       "        text-align: right;\n",
       "    }\n",
       "</style>\n",
       "<table border=\"1\" class=\"dataframe\">\n",
       "  <thead>\n",
       "    <tr style=\"text-align: right;\">\n",
       "      <th></th>\n",
       "      <th>airline_sentiment</th>\n",
       "    </tr>\n",
       "    <tr>\n",
       "      <th>airline</th>\n",
       "      <th></th>\n",
       "    </tr>\n",
       "  </thead>\n",
       "  <tbody>\n",
       "    <tr>\n",
       "      <th>American</th>\n",
       "      <td>0.411381</td>\n",
       "    </tr>\n",
       "    <tr>\n",
       "      <th>Delta</th>\n",
       "      <td>0.815032</td>\n",
       "    </tr>\n",
       "    <tr>\n",
       "      <th>Southwest</th>\n",
       "      <td>0.745455</td>\n",
       "    </tr>\n",
       "    <tr>\n",
       "      <th>US Airways</th>\n",
       "      <td>0.315482</td>\n",
       "    </tr>\n",
       "    <tr>\n",
       "      <th>United</th>\n",
       "      <td>0.439822</td>\n",
       "    </tr>\n",
       "    <tr>\n",
       "      <th>Virgin America</th>\n",
       "      <td>0.942460</td>\n",
       "    </tr>\n",
       "  </tbody>\n",
       "</table>\n",
       "</div>"
      ],
      "text/plain": [
       "                airline_sentiment\n",
       "airline                          \n",
       "American                 0.411381\n",
       "Delta                    0.815032\n",
       "Southwest                0.745455\n",
       "US Airways               0.315482\n",
       "United                   0.439822\n",
       "Virgin America           0.942460"
      ]
     },
     "execution_count": 380,
     "metadata": {},
     "output_type": "execute_result"
    }
   ],
   "source": [
    "df.groupby('airline').mean()"
   ]
  },
  {
   "cell_type": "code",
   "execution_count": 378,
   "metadata": {},
   "outputs": [
    {
     "data": {
      "text/plain": [
       "'Virgin America'"
      ]
     },
     "execution_count": 378,
     "metadata": {},
     "output_type": "execute_result"
    }
   ],
   "source": [
    "positive_airline"
   ]
  },
  {
   "cell_type": "code",
   "execution_count": 340,
   "metadata": {
    "scrolled": true
   },
   "outputs": [],
   "source": [
    "alpha_values = list(np.round(np.random.random_sample(5),2))\n",
    "fit_prior_value = False\n",
    "accuracies = []\n",
    "\n",
    "for alpha_val in alpha_values:\n",
    "    model = MultinomialNB(alpha=alpha_val, fit_prior = fit_prior_value).fit(X_train, y_train)\n",
    "    predicted = model.predict(X_test)\n",
    "    accuracy = np.round(np.mean(predicted == y_test),2)\n",
    "    accuracies.append(accuracy)"
   ]
  },
  {
   "cell_type": "code",
   "execution_count": 341,
   "metadata": {},
   "outputs": [],
   "source": [
    "results = {'alpha':alpha_values, 'fit_prior': len(accuracies)*[False], 'accuracy': accuracies}\n",
    "results_df = pd.DataFrame(data = results)"
   ]
  },
  {
   "cell_type": "code",
   "execution_count": 342,
   "metadata": {},
   "outputs": [
    {
     "data": {
      "text/html": [
       "<div>\n",
       "<style scoped>\n",
       "    .dataframe tbody tr th:only-of-type {\n",
       "        vertical-align: middle;\n",
       "    }\n",
       "\n",
       "    .dataframe tbody tr th {\n",
       "        vertical-align: top;\n",
       "    }\n",
       "\n",
       "    .dataframe thead th {\n",
       "        text-align: right;\n",
       "    }\n",
       "</style>\n",
       "<table border=\"1\" class=\"dataframe\">\n",
       "  <thead>\n",
       "    <tr style=\"text-align: right;\">\n",
       "      <th></th>\n",
       "      <th>alpha</th>\n",
       "      <th>fit_prior</th>\n",
       "      <th>accuracy</th>\n",
       "    </tr>\n",
       "  </thead>\n",
       "  <tbody>\n",
       "    <tr>\n",
       "      <th>0</th>\n",
       "      <td>0.28</td>\n",
       "      <td>False</td>\n",
       "      <td>0.76</td>\n",
       "    </tr>\n",
       "    <tr>\n",
       "      <th>1</th>\n",
       "      <td>0.41</td>\n",
       "      <td>False</td>\n",
       "      <td>0.76</td>\n",
       "    </tr>\n",
       "    <tr>\n",
       "      <th>2</th>\n",
       "      <td>0.71</td>\n",
       "      <td>False</td>\n",
       "      <td>0.77</td>\n",
       "    </tr>\n",
       "    <tr>\n",
       "      <th>3</th>\n",
       "      <td>0.28</td>\n",
       "      <td>False</td>\n",
       "      <td>0.76</td>\n",
       "    </tr>\n",
       "    <tr>\n",
       "      <th>4</th>\n",
       "      <td>0.08</td>\n",
       "      <td>False</td>\n",
       "      <td>0.75</td>\n",
       "    </tr>\n",
       "  </tbody>\n",
       "</table>\n",
       "</div>"
      ],
      "text/plain": [
       "   alpha  fit_prior  accuracy\n",
       "0   0.28      False      0.76\n",
       "1   0.41      False      0.76\n",
       "2   0.71      False      0.77\n",
       "3   0.28      False      0.76\n",
       "4   0.08      False      0.75"
      ]
     },
     "execution_count": 342,
     "metadata": {},
     "output_type": "execute_result"
    }
   ],
   "source": [
    "results_df"
   ]
  },
  {
   "cell_type": "code",
   "execution_count": 347,
   "metadata": {},
   "outputs": [
    {
     "data": {
      "text/plain": [
       "0    9178\n",
       "1    3099\n",
       "2    2363\n",
       "Name: airline_sentiment, dtype: int64"
      ]
     },
     "execution_count": 347,
     "metadata": {},
     "output_type": "execute_result"
    }
   ],
   "source": [
    "df['airline_sentiment'].value_counts()"
   ]
  }
 ],
 "metadata": {
  "kernelspec": {
   "display_name": "Python 3",
   "language": "python",
   "name": "python3"
  },
  "language_info": {
   "codemirror_mode": {
    "name": "ipython",
    "version": 3
   },
   "file_extension": ".py",
   "mimetype": "text/x-python",
   "name": "python",
   "nbconvert_exporter": "python",
   "pygments_lexer": "ipython3",
   "version": "3.6.9"
  }
 },
 "nbformat": 4,
 "nbformat_minor": 4
}
