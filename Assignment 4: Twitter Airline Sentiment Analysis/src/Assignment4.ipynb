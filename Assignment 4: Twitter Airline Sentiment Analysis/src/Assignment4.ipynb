{
 "cells": [
  {
   "cell_type": "markdown",
   "metadata": {},
   "source": [
    "# Assignment 4: Twitter Airline Sentiment Analysis\n",
    " <ul> \n",
    "    <li> Dataset: <a href= 'https://www.kaggle.com/crowdflower/twitter-airline-sentiment/version/2'> Twitter US Airline Sentiment  </a> </li>\n",
    "    <li> Contains positive, neutral, and negative tweets directed at six US airlines </li>\n",
    " </ul>"
   ]
  },
  {
   "cell_type": "code",
   "execution_count": 29,
   "metadata": {},
   "outputs": [],
   "source": [
    "from sklearn.feature_extraction.text import CountVectorizer,TfidfTransformer\n",
    "from sklearn.model_selection import train_test_split\n",
    "from sklearn.naive_bayes import MultinomialNB\n",
    "from sklearn.preprocessing import LabelEncoder\n",
    "import matplotlib.pyplot as plt\n",
    "import preprocessor as p\n",
    "import pandas as pd\n",
    "import numpy as np\n",
    "p.set_options(p.OPT.EMOJI, p.OPT.URL, p.OPT.MENTION)"
   ]
  },
  {
   "cell_type": "code",
   "execution_count": 30,
   "metadata": {},
   "outputs": [],
   "source": [
    "file_location = \"../../data/Tweets.csv\"\n",
    "columns = ['airline_sentiment', 'airline', 'text']\n",
    "tweets_df = pd.read_csv(file_location, usecols = columns)"
   ]
  },
  {
   "cell_type": "code",
   "execution_count": 31,
   "metadata": {},
   "outputs": [],
   "source": [
    "class TweetPreprocessor:\n",
    "    def __init__(self, df):\n",
    "        self.df = df\n",
    "    \n",
    "    def fit(self, tweet_col, target_col):\n",
    "        np.random.shuffle(self.df.values)\n",
    "        self.drop_nulls()\n",
    "        self.lower_case(column_name = tweet_col)\n",
    "        self.preprocess_tweets(tweet_col)\n",
    "        self.label_encode(target_col)\n",
    "        \n",
    "        count_vect = CountVectorizer()\n",
    "        counts = count_vect.fit_transform(self.df[tweet_col])\n",
    "        transformer = TfidfTransformer().fit(counts)\n",
    "        normalized_counts = transformer.transform(counts)  \n",
    "        \n",
    "        return normalized_counts, self.df,  \n",
    "    \n",
    "    def label_encode(self, target_col):\n",
    "        le = LabelEncoder()\n",
    "        self.df[target_col] = le.fit_transform(self.df[target_col])\n",
    "    \n",
    "    def preprocess_tweets(self, tweet_col):\n",
    "        self.df[tweet_col] = self.df[tweet_col].apply(p.clean)\n",
    "        \n",
    "    def token_counts(self, tweet_col):\n",
    "        count_vect = CountVectorizer()\n",
    "        counts = count_vect.fit_transform(self.df[tweet_col])\n",
    "        return counts\n",
    "    \n",
    "    def normalize_counts(self, counts):\n",
    "        transformer = TfidfTransformer().fit(counts)\n",
    "        return transformer.transform(counts)\n",
    "    \n",
    "    def drop_nulls(self):\n",
    "        if(self.df.isna().sum().sum()>0):\n",
    "            self.df.dropna(inplace=True)\n",
    "        \n",
    "    def lower_case(self, column_name):\n",
    "        self.df[column_name] = self.df[column_name].str.lower()"
   ]
  },
  {
   "cell_type": "code",
   "execution_count": 32,
   "metadata": {},
   "outputs": [
    {
     "name": "stdout",
     "output_type": "stream",
     "text": [
      "(14640, 3)\n"
     ]
    }
   ],
   "source": [
    "target_col = 'airline_sentiment'\n",
    "preprocessor = TweetPreprocessor(tweets_df)\n",
    "normalized_counts, df = preprocessor.fit(tweet_col = 'text', target_col = target_col)\n",
    "print(df.shape)\n",
    "X_train, X_test, y_train, y_test = train_test_split(normalized_counts, df[target_col], test_size=0.1)"
   ]
  },
  {
   "cell_type": "code",
   "execution_count": 33,
   "metadata": {},
   "outputs": [],
   "source": [
    "positive_sentiment = {}\n",
    "\n",
    "for airline in np.unique(df['airline']):\n",
    "    airline_tweets = df[df['airline'] == airline]\n",
    "    positive_tweet_count = len(airline_tweets[airline_tweets['airline_sentiment'] == 2])\n",
    "    positive_sentiment[airline] = np.round(positive_tweet_count/len(airline_tweets),2)\n",
    "\n",
    "positive_airline = [key for key in positive_sentiment.keys() if \n",
    "                    positive_sentiment[key] == max(positive_sentiment.values())][0]"
   ]
  },
  {
   "cell_type": "code",
   "execution_count": 34,
   "metadata": {},
   "outputs": [
    {
     "data": {
      "text/html": [
       "<div>\n",
       "<style scoped>\n",
       "    .dataframe tbody tr th:only-of-type {\n",
       "        vertical-align: middle;\n",
       "    }\n",
       "\n",
       "    .dataframe tbody tr th {\n",
       "        vertical-align: top;\n",
       "    }\n",
       "\n",
       "    .dataframe thead th {\n",
       "        text-align: right;\n",
       "    }\n",
       "</style>\n",
       "<table border=\"1\" class=\"dataframe\">\n",
       "  <thead>\n",
       "    <tr style=\"text-align: right;\">\n",
       "      <th></th>\n",
       "      <th>airline_sentiment</th>\n",
       "    </tr>\n",
       "    <tr>\n",
       "      <th>airline</th>\n",
       "      <th></th>\n",
       "    </tr>\n",
       "  </thead>\n",
       "  <tbody>\n",
       "    <tr>\n",
       "      <th>American</th>\n",
       "      <td>0.411381</td>\n",
       "    </tr>\n",
       "    <tr>\n",
       "      <th>Delta</th>\n",
       "      <td>0.815032</td>\n",
       "    </tr>\n",
       "    <tr>\n",
       "      <th>Southwest</th>\n",
       "      <td>0.745455</td>\n",
       "    </tr>\n",
       "    <tr>\n",
       "      <th>US Airways</th>\n",
       "      <td>0.315482</td>\n",
       "    </tr>\n",
       "    <tr>\n",
       "      <th>United</th>\n",
       "      <td>0.439822</td>\n",
       "    </tr>\n",
       "    <tr>\n",
       "      <th>Virgin America</th>\n",
       "      <td>0.942460</td>\n",
       "    </tr>\n",
       "  </tbody>\n",
       "</table>\n",
       "</div>"
      ],
      "text/plain": [
       "                airline_sentiment\n",
       "airline                          \n",
       "American                 0.411381\n",
       "Delta                    0.815032\n",
       "Southwest                0.745455\n",
       "US Airways               0.315482\n",
       "United                   0.439822\n",
       "Virgin America           0.942460"
      ]
     },
     "execution_count": 34,
     "metadata": {},
     "output_type": "execute_result"
    }
   ],
   "source": [
    "df.groupby('airline').mean()"
   ]
  },
  {
   "cell_type": "code",
   "execution_count": 35,
   "metadata": {},
   "outputs": [
    {
     "data": {
      "text/plain": [
       "'Virgin America'"
      ]
     },
     "execution_count": 35,
     "metadata": {},
     "output_type": "execute_result"
    }
   ],
   "source": [
    "positive_airline"
   ]
  },
  {
   "cell_type": "code",
   "execution_count": 36,
   "metadata": {
    "scrolled": true
   },
   "outputs": [],
   "source": [
    "alpha_values = list(np.round(np.random.random_sample(5),2))\n",
    "fit_prior_value = False\n",
    "accuracies = []\n",
    "\n",
    "for alpha_val in alpha_values:\n",
    "    model = MultinomialNB(alpha=alpha_val, fit_prior = fit_prior_value).fit(X_train, y_train)\n",
    "    predicted = model.predict(X_test)\n",
    "    accuracy = np.round(np.mean(predicted == y_test),2)\n",
    "    accuracies.append(accuracy)"
   ]
  },
  {
   "cell_type": "code",
   "execution_count": 37,
   "metadata": {},
   "outputs": [],
   "source": [
    "results = {'alpha':alpha_values, 'fit_prior': len(accuracies)*[False], 'accuracy': accuracies}\n",
    "results_df = pd.DataFrame(data = results)"
   ]
  },
  {
   "cell_type": "code",
   "execution_count": 57,
   "metadata": {},
   "outputs": [
    {
     "data": {
      "text/plain": [
       "0.65"
      ]
     },
     "execution_count": 57,
     "metadata": {},
     "output_type": "execute_result"
    }
   ],
   "source": [
    "max_accuracy = results_df['accuracy'].max()\n",
    "max_row = results_df[results_df['accuracy'] == max_accuracy]\n",
    "optimal_alpha = list(max_row['alpha'])[0]"
   ]
  },
  {
   "cell_type": "code",
   "execution_count": 43,
   "metadata": {},
   "outputs": [
    {
     "data": {
      "text/html": [
       "<div>\n",
       "<style scoped>\n",
       "    .dataframe tbody tr th:only-of-type {\n",
       "        vertical-align: middle;\n",
       "    }\n",
       "\n",
       "    .dataframe tbody tr th {\n",
       "        vertical-align: top;\n",
       "    }\n",
       "\n",
       "    .dataframe thead th {\n",
       "        text-align: right;\n",
       "    }\n",
       "</style>\n",
       "<table border=\"1\" class=\"dataframe\">\n",
       "  <thead>\n",
       "    <tr style=\"text-align: right;\">\n",
       "      <th></th>\n",
       "      <th>alpha</th>\n",
       "      <th>fit_prior</th>\n",
       "      <th>accuracy</th>\n",
       "    </tr>\n",
       "  </thead>\n",
       "  <tbody>\n",
       "    <tr>\n",
       "      <th>0</th>\n",
       "      <td>0.05</td>\n",
       "      <td>False</td>\n",
       "      <td>0.75</td>\n",
       "    </tr>\n",
       "    <tr>\n",
       "      <th>1</th>\n",
       "      <td>0.65</td>\n",
       "      <td>False</td>\n",
       "      <td>0.78</td>\n",
       "    </tr>\n",
       "    <tr>\n",
       "      <th>2</th>\n",
       "      <td>0.81</td>\n",
       "      <td>False</td>\n",
       "      <td>0.77</td>\n",
       "    </tr>\n",
       "    <tr>\n",
       "      <th>3</th>\n",
       "      <td>0.59</td>\n",
       "      <td>False</td>\n",
       "      <td>0.78</td>\n",
       "    </tr>\n",
       "    <tr>\n",
       "      <th>4</th>\n",
       "      <td>0.68</td>\n",
       "      <td>False</td>\n",
       "      <td>0.78</td>\n",
       "    </tr>\n",
       "  </tbody>\n",
       "</table>\n",
       "</div>"
      ],
      "text/plain": [
       "   alpha  fit_prior  accuracy\n",
       "0   0.05      False      0.75\n",
       "1   0.65      False      0.78\n",
       "2   0.81      False      0.77\n",
       "3   0.59      False      0.78\n",
       "4   0.68      False      0.78"
      ]
     },
     "execution_count": 43,
     "metadata": {},
     "output_type": "execute_result"
    }
   ],
   "source": [
    "results_df"
   ]
  },
  {
   "cell_type": "code",
   "execution_count": 39,
   "metadata": {},
   "outputs": [
    {
     "data": {
      "text/plain": [
       "0    9178\n",
       "1    3099\n",
       "2    2363\n",
       "Name: airline_sentiment, dtype: int64"
      ]
     },
     "execution_count": 39,
     "metadata": {},
     "output_type": "execute_result"
    }
   ],
   "source": [
    "df['airline_sentiment'].value_counts()"
   ]
  },
  {
   "cell_type": "code",
   "execution_count": 40,
   "metadata": {},
   "outputs": [
    {
     "data": {
      "text/html": [
       "<div>\n",
       "<style scoped>\n",
       "    .dataframe tbody tr th:only-of-type {\n",
       "        vertical-align: middle;\n",
       "    }\n",
       "\n",
       "    .dataframe tbody tr th {\n",
       "        vertical-align: top;\n",
       "    }\n",
       "\n",
       "    .dataframe thead th {\n",
       "        text-align: right;\n",
       "    }\n",
       "</style>\n",
       "<table border=\"1\" class=\"dataframe\">\n",
       "  <thead>\n",
       "    <tr style=\"text-align: right;\">\n",
       "      <th></th>\n",
       "      <th>airline_sentiment</th>\n",
       "      <th>airline</th>\n",
       "      <th>text</th>\n",
       "    </tr>\n",
       "  </thead>\n",
       "  <tbody>\n",
       "    <tr>\n",
       "      <th>0</th>\n",
       "      <td>0</td>\n",
       "      <td>United</td>\n",
       "      <td>been on hold on the phone for well over half a...</td>\n",
       "    </tr>\n",
       "    <tr>\n",
       "      <th>1</th>\n",
       "      <td>0</td>\n",
       "      <td>American</td>\n",
       "      <td>weather was not involved.</td>\n",
       "    </tr>\n",
       "    <tr>\n",
       "      <th>2</th>\n",
       "      <td>1</td>\n",
       "      <td>Delta</td>\n",
       "      <td>hello good afternoon how are you, i need know ...</td>\n",
       "    </tr>\n",
       "    <tr>\n",
       "      <th>3</th>\n",
       "      <td>0</td>\n",
       "      <td>Delta</td>\n",
       "      <td>continuing you record of never having a flight...</td>\n",
       "    </tr>\n",
       "    <tr>\n",
       "      <th>4</th>\n",
       "      <td>0</td>\n",
       "      <td>US Airways</td>\n",
       "      <td>uh yeah. flight boarded &amp;amp; now 1 hr late fl...</td>\n",
       "    </tr>\n",
       "    <tr>\n",
       "      <th>...</th>\n",
       "      <td>...</td>\n",
       "      <td>...</td>\n",
       "      <td>...</td>\n",
       "    </tr>\n",
       "    <tr>\n",
       "      <th>14635</th>\n",
       "      <td>2</td>\n",
       "      <td>Southwest</td>\n",
       "      <td>de-icing is important!</td>\n",
       "    </tr>\n",
       "    <tr>\n",
       "      <th>14636</th>\n",
       "      <td>2</td>\n",
       "      <td>United</td>\n",
       "      <td>flew from sdf to atl to tampa on delta. left e...</td>\n",
       "    </tr>\n",
       "    <tr>\n",
       "      <th>14637</th>\n",
       "      <td>0</td>\n",
       "      <td>Southwest</td>\n",
       "      <td>we understand air delays which are out of your...</td>\n",
       "    </tr>\n",
       "    <tr>\n",
       "      <th>14638</th>\n",
       "      <td>0</td>\n",
       "      <td>American</td>\n",
       "      <td>im still on hold...</td>\n",
       "    </tr>\n",
       "    <tr>\n",
       "      <th>14639</th>\n",
       "      <td>0</td>\n",
       "      <td>US Airways</td>\n",
       "      <td>it was us 893. the gate was open after about 5...</td>\n",
       "    </tr>\n",
       "  </tbody>\n",
       "</table>\n",
       "<p>14640 rows × 3 columns</p>\n",
       "</div>"
      ],
      "text/plain": [
       "       airline_sentiment     airline  \\\n",
       "0                      0      United   \n",
       "1                      0    American   \n",
       "2                      1       Delta   \n",
       "3                      0       Delta   \n",
       "4                      0  US Airways   \n",
       "...                  ...         ...   \n",
       "14635                  2   Southwest   \n",
       "14636                  2      United   \n",
       "14637                  0   Southwest   \n",
       "14638                  0    American   \n",
       "14639                  0  US Airways   \n",
       "\n",
       "                                                    text  \n",
       "0      been on hold on the phone for well over half a...  \n",
       "1                              weather was not involved.  \n",
       "2      hello good afternoon how are you, i need know ...  \n",
       "3      continuing you record of never having a flight...  \n",
       "4      uh yeah. flight boarded &amp; now 1 hr late fl...  \n",
       "...                                                  ...  \n",
       "14635                             de-icing is important!  \n",
       "14636  flew from sdf to atl to tampa on delta. left e...  \n",
       "14637  we understand air delays which are out of your...  \n",
       "14638                                im still on hold...  \n",
       "14639  it was us 893. the gate was open after about 5...  \n",
       "\n",
       "[14640 rows x 3 columns]"
      ]
     },
     "execution_count": 40,
     "metadata": {},
     "output_type": "execute_result"
    }
   ],
   "source": [
    "df"
   ]
  },
  {
   "cell_type": "code",
   "execution_count": null,
   "metadata": {},
   "outputs": [],
   "source": []
  }
 ],
 "metadata": {
  "kernelspec": {
   "display_name": "Python 3",
   "language": "python",
   "name": "python3"
  },
  "language_info": {
   "codemirror_mode": {
    "name": "ipython",
    "version": 3
   },
   "file_extension": ".py",
   "mimetype": "text/x-python",
   "name": "python",
   "nbconvert_exporter": "python",
   "pygments_lexer": "ipython3",
   "version": "3.6.9"
  }
 },
 "nbformat": 4,
 "nbformat_minor": 4
}
